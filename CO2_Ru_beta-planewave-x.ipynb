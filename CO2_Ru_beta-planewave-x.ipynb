{
 "cells": [
  {
   "cell_type": "code",
   "execution_count": 14,
   "metadata": {},
   "outputs": [],
   "source": [
    "import numpy as np\n",
    "import matplotlib\n",
    "import matplotlib.pyplot as plt\n",
    "import seaborn as sns\n",
    "import pandas as pd\n",
    "import itertools\n",
    "from pylab import *\n"
   ]
  },
  {
   "cell_type": "code",
   "execution_count": 15,
   "metadata": {},
   "outputs": [
    {
     "name": "stdout",
     "output_type": "stream",
     "text": [
      "[[0.005979288 0.99249146 0.821664669 'Ru']\n",
      " [0.33942587 0.99240554 0.82141084 'Ru']\n",
      " [0.672688078 0.9924962509999999 0.82170573 'Ru']\n",
      " [0.005669844 0.242584883 0.821056225 'Ru']\n",
      " [0.339454236 0.24254530800000002 0.8214742970000001 'Ru']\n",
      " [0.67263436 0.24246511699999998 0.8217243940000001 'Ru']\n",
      " [0.0060477330000000004 0.49245470799999996 0.8215601509999999 'Ru']\n",
      " [0.339341589 0.492474495 0.8216945309999999 'Ru']\n",
      " [0.672677162 0.492498449 0.821646005 'Ru']\n",
      " [0.00605524 0.742499495 0.8216945309999999 'Ru']\n",
      " [0.339354032 0.742450547 0.821672135 'Ru']\n",
      " [0.67272939 0.74245992 0.821668402 'Ru']\n",
      " [0.155695856 0.200304108 0.953644797 'C']\n",
      " [0.242287355 0.078011041 0.9530438179999999 'O']\n",
      " [0.069166332 0.322507818 0.954249508 'O']]\n"
     ]
    }
   ],
   "source": [
    "#import the xyz files and get the atoms in a list\n",
    "CO2_Ru = pd.read_csv('CO2_Ru.csv', sep=',', header=None)\n",
    "print(CO2_Ru.values)"
   ]
  },
  {
   "cell_type": "code",
   "execution_count": 16,
   "metadata": {},
   "outputs": [
    {
     "name": "stdout",
     "output_type": "stream",
     "text": [
      "[[ 8.31557575  0.          0.        ]\n",
      " [ 5.54371717  9.60199979  0.        ]\n",
      " [ 0.          0.         26.78963917]]\n"
     ]
    }
   ],
   "source": [
    "# Brilliant.  Moving on.  \n",
    "# Get the lattice vectors.\n",
    "lattice_vectors = pd.read_csv('lattice_vectors.csv', sep=',', header=None)\n",
    "print(lattice_vectors.values)\n"
   ]
  },
  {
   "cell_type": "code",
   "execution_count": 17,
   "metadata": {},
   "outputs": [
    {
     "name": "stdout",
     "output_type": "stream",
     "text": [
      "[[ 5.55181317  9.52990279 22.0121    ]\n",
      " [ 8.32413716  9.52907779 22.00530001]\n",
      " [11.09590717  9.5299488  22.01320001]\n",
      " [ 1.39197     2.3293     21.99580001]\n",
      " [ 4.16736     2.32892    22.007     ]\n",
      " [ 6.9375      2.32815    22.01370001]\n",
      " [ 2.78032     4.72855    22.0093    ]\n",
      " [ 5.55196     4.72874    22.01289999]\n",
      " [ 8.32397     4.72897    22.0116    ]\n",
      " [ 4.16656     7.12948    22.01289999]\n",
      " [ 6.93786     7.12901    22.01230001]\n",
      " [ 9.71012     7.1291     22.01220001]\n",
      " [ 2.40513001  1.92332    25.54780001]\n",
      " [ 2.44723     0.749062   25.5317    ]\n",
      " [ 2.36305     3.09672    25.564     ]]\n"
     ]
    }
   ],
   "source": [
    "# Convert to Angstroms instead of fractions of the unit cell vectors.\n",
    "# An N-atom by 3 matrix times 3x3 lattice matrix yields an Nx3 matrix.\n",
    "CO2_Ru_angs=np.matmul(CO2_Ru.iloc[:, 0:3],lattice_vectors)\n",
    "CO2_Ru_angs = np.array(CO2_Ru_angs)\n",
    "print(CO2_Ru_angs)"
   ]
  },
  {
   "cell_type": "code",
   "execution_count": 18,
   "metadata": {},
   "outputs": [
    {
     "name": "stdout",
     "output_type": "stream",
     "text": [
      "[[10.49140638 18.00890628  3.80231794]\n",
      " [15.73033946 18.00734725  3.78946783]\n",
      " [20.96822566 18.00899321  3.80439666]\n",
      " [ 2.63044207  4.40173906  3.77151541]\n",
      " [ 7.87516906  4.40102096  3.79268034]\n",
      " [13.109975    4.39956588  3.80534152]\n",
      " [ 5.25404334  8.93566448  3.79702671]\n",
      " [10.49168386  8.93602352  3.80382971]\n",
      " [15.73002358  8.93645816  3.80137307]\n",
      " [ 7.87365729 13.47276461  3.80382971]\n",
      " [13.1106553  13.47187644  3.80269591]\n",
      " [18.34946745 13.47204652  3.80250692]\n",
      " [ 4.54503701  3.63454806 10.48382261]\n",
      " [ 4.62459447  1.41552203 10.453398  ]\n",
      " [ 4.46551732  5.85195269 10.51443616]]\n"
     ]
    }
   ],
   "source": [
    "# Slice off unnecessary z-space below.  Convert to atomic units of length.\n",
    "CO2_Ru_angs[:, 2] = CO2_Ru_angs[:, 2] - 20\n",
    "CO2_Ru_au = CO2_Ru_angs/0.52917721067121\n",
    "print(CO2_Ru_au)"
   ]
  },
  {
   "cell_type": "code",
   "execution_count": 19,
   "metadata": {},
   "outputs": [],
   "source": [
    "#Ready to start iterating?\n",
    "a1 = 24\n",
    "a2 = 24\n",
    "a3 = 24\n"
   ]
  },
  {
   "cell_type": "code",
   "execution_count": 20,
   "metadata": {},
   "outputs": [
    {
     "name": "stdout",
     "output_type": "stream",
     "text": [
      "-805.3404953355378\n",
      "-276.6658681789154\n",
      "[-0.27680747747231244, -96.94598382969153, -308.6574331998996, -805.3404953355378, -159.2685513985877, -552.5175040238388, -281.43623470345307, -353.5836040621065, -511.4095441384343, -201.57397803481211, -521.9335171768768, -176.6445139992814, -148.1129775191456, -272.877621838253, -36.04659603406548, -0.028528091189987947]\n",
      "[[-2.76807477e-01  0.00000000e+00  0.00000000e+00  0.00000000e+00\n",
      "   0.00000000e+00  0.00000000e+00  0.00000000e+00  0.00000000e+00\n",
      "   0.00000000e+00  0.00000000e+00  0.00000000e+00  0.00000000e+00\n",
      "   0.00000000e+00  0.00000000e+00  0.00000000e+00  0.00000000e+00]\n",
      " [ 0.00000000e+00 -9.69459838e+01  0.00000000e+00  0.00000000e+00\n",
      "   0.00000000e+00  0.00000000e+00  0.00000000e+00  0.00000000e+00\n",
      "   0.00000000e+00  0.00000000e+00  0.00000000e+00  0.00000000e+00\n",
      "   0.00000000e+00  0.00000000e+00  0.00000000e+00  0.00000000e+00]\n",
      " [ 0.00000000e+00  0.00000000e+00 -3.08657433e+02  0.00000000e+00\n",
      "   0.00000000e+00  0.00000000e+00  0.00000000e+00  0.00000000e+00\n",
      "   0.00000000e+00  0.00000000e+00  0.00000000e+00  0.00000000e+00\n",
      "   0.00000000e+00  0.00000000e+00  0.00000000e+00  0.00000000e+00]\n",
      " [ 0.00000000e+00  0.00000000e+00  0.00000000e+00 -8.05340495e+02\n",
      "   0.00000000e+00  0.00000000e+00  0.00000000e+00  0.00000000e+00\n",
      "   0.00000000e+00  0.00000000e+00  0.00000000e+00  0.00000000e+00\n",
      "   0.00000000e+00  0.00000000e+00  0.00000000e+00  0.00000000e+00]\n",
      " [ 0.00000000e+00  0.00000000e+00  0.00000000e+00  0.00000000e+00\n",
      "  -1.59268551e+02  0.00000000e+00  0.00000000e+00  0.00000000e+00\n",
      "   0.00000000e+00  0.00000000e+00  0.00000000e+00  0.00000000e+00\n",
      "   0.00000000e+00  0.00000000e+00  0.00000000e+00  0.00000000e+00]\n",
      " [ 0.00000000e+00  0.00000000e+00  0.00000000e+00  0.00000000e+00\n",
      "   0.00000000e+00 -5.52517504e+02  0.00000000e+00  0.00000000e+00\n",
      "   0.00000000e+00  0.00000000e+00  0.00000000e+00  0.00000000e+00\n",
      "   0.00000000e+00  0.00000000e+00  0.00000000e+00  0.00000000e+00]\n",
      " [ 0.00000000e+00  0.00000000e+00  0.00000000e+00  0.00000000e+00\n",
      "   0.00000000e+00  0.00000000e+00 -2.81436235e+02  0.00000000e+00\n",
      "   0.00000000e+00  0.00000000e+00  0.00000000e+00  0.00000000e+00\n",
      "   0.00000000e+00  0.00000000e+00  0.00000000e+00  0.00000000e+00]\n",
      " [ 0.00000000e+00  0.00000000e+00  0.00000000e+00  0.00000000e+00\n",
      "   0.00000000e+00  0.00000000e+00  0.00000000e+00 -3.53583604e+02\n",
      "   0.00000000e+00  0.00000000e+00  0.00000000e+00  0.00000000e+00\n",
      "   0.00000000e+00  0.00000000e+00  0.00000000e+00  0.00000000e+00]\n",
      " [ 0.00000000e+00  0.00000000e+00  0.00000000e+00  0.00000000e+00\n",
      "   0.00000000e+00  0.00000000e+00  0.00000000e+00  0.00000000e+00\n",
      "  -5.11409544e+02  0.00000000e+00  0.00000000e+00  0.00000000e+00\n",
      "   0.00000000e+00  0.00000000e+00  0.00000000e+00  0.00000000e+00]\n",
      " [ 0.00000000e+00  0.00000000e+00  0.00000000e+00  0.00000000e+00\n",
      "   0.00000000e+00  0.00000000e+00  0.00000000e+00  0.00000000e+00\n",
      "   0.00000000e+00 -2.01573978e+02  0.00000000e+00  0.00000000e+00\n",
      "   0.00000000e+00  0.00000000e+00  0.00000000e+00  0.00000000e+00]\n",
      " [ 0.00000000e+00  0.00000000e+00  0.00000000e+00  0.00000000e+00\n",
      "   0.00000000e+00  0.00000000e+00  0.00000000e+00  0.00000000e+00\n",
      "   0.00000000e+00  0.00000000e+00 -5.21933517e+02  0.00000000e+00\n",
      "   0.00000000e+00  0.00000000e+00  0.00000000e+00  0.00000000e+00]\n",
      " [ 0.00000000e+00  0.00000000e+00  0.00000000e+00  0.00000000e+00\n",
      "   0.00000000e+00  0.00000000e+00  0.00000000e+00  0.00000000e+00\n",
      "   0.00000000e+00  0.00000000e+00  0.00000000e+00 -1.76644514e+02\n",
      "   0.00000000e+00  0.00000000e+00  0.00000000e+00  0.00000000e+00]\n",
      " [ 0.00000000e+00  0.00000000e+00  0.00000000e+00  0.00000000e+00\n",
      "   0.00000000e+00  0.00000000e+00  0.00000000e+00  0.00000000e+00\n",
      "   0.00000000e+00  0.00000000e+00  0.00000000e+00  0.00000000e+00\n",
      "  -1.48112978e+02  0.00000000e+00  0.00000000e+00  0.00000000e+00]\n",
      " [ 0.00000000e+00  0.00000000e+00  0.00000000e+00  0.00000000e+00\n",
      "   0.00000000e+00  0.00000000e+00  0.00000000e+00  0.00000000e+00\n",
      "   0.00000000e+00  0.00000000e+00  0.00000000e+00  0.00000000e+00\n",
      "   0.00000000e+00 -2.72877622e+02  0.00000000e+00  0.00000000e+00]\n",
      " [ 0.00000000e+00  0.00000000e+00  0.00000000e+00  0.00000000e+00\n",
      "   0.00000000e+00  0.00000000e+00  0.00000000e+00  0.00000000e+00\n",
      "   0.00000000e+00  0.00000000e+00  0.00000000e+00  0.00000000e+00\n",
      "   0.00000000e+00  0.00000000e+00 -3.60465960e+01  0.00000000e+00]\n",
      " [ 0.00000000e+00  0.00000000e+00  0.00000000e+00  0.00000000e+00\n",
      "   0.00000000e+00  0.00000000e+00  0.00000000e+00  0.00000000e+00\n",
      "   0.00000000e+00  0.00000000e+00  0.00000000e+00  0.00000000e+00\n",
      "   0.00000000e+00  0.00000000e+00  0.00000000e+00 -2.85280912e-02]]\n"
     ]
    }
   ],
   "source": [
    "CO2_Ru = np.array(CO2_Ru)\n",
    "split = np.linspace(0,a1,16)\n",
    "#print(split_x)\n",
    "\n",
    "V_ext_x = []\n",
    "\n",
    "for i in split:\n",
    "    #V_ext = 0\n",
    "    mini_sum = 0\n",
    "    for j in range(len(CO2_Ru_angs)):\n",
    "\n",
    "        distance_x = np.sqrt(np.power(CO2_Ru_au[j,0] - i,2))\n",
    "\n",
    "\n",
    "        pseudopotential_x = np.exp(-np.power(distance_x/(1),2))\n",
    "\n",
    "        #print(pseudopotential)\n",
    "        element = CO2_Ru[j,3]\n",
    "        if element == 'Ru':\n",
    "            charge = 10#44\n",
    "        elif element == 'C':\n",
    "            charge = 6\n",
    "        elif element == 'O':\n",
    "            charge = 8\n",
    "        else:\n",
    "            charge = 0.0\n",
    "            \n",
    "        mini_sum = mini_sum-28*charge*pseudopotential_x #28 is all the valence electrons of the system\n",
    "        \n",
    "    V_ext_x.append(mini_sum) \n",
    "\n",
    "\n",
    "print(min(V_ext_x))\n",
    "print(np.sum(V_ext_x)/16)\n",
    "V_ext_oper = np.diag(V_ext_x)\n",
    "#V_ext_oper[0,0] = -V_ext\n",
    "print(V_ext_x)\n",
    "print(V_ext_oper)"
   ]
  },
  {
   "cell_type": "code",
   "execution_count": 21,
   "metadata": {},
   "outputs": [
    {
     "name": "stdout",
     "output_type": "stream",
     "text": [
      "[[ 0.01388889 -0.00694444 -0.         -0.         -0.         -0.\n",
      "  -0.         -0.         -0.         -0.         -0.         -0.\n",
      "  -0.         -0.         -0.         -0.00694444]\n",
      " [-0.00694444  0.01388889 -0.00694444 -0.         -0.         -0.\n",
      "  -0.         -0.         -0.         -0.         -0.         -0.\n",
      "  -0.         -0.         -0.         -0.        ]\n",
      " [-0.         -0.00694444  0.01388889 -0.00694444 -0.         -0.\n",
      "  -0.         -0.         -0.         -0.         -0.         -0.\n",
      "  -0.         -0.         -0.         -0.        ]\n",
      " [-0.         -0.         -0.00694444  0.01388889 -0.00694444 -0.\n",
      "  -0.         -0.         -0.         -0.         -0.         -0.\n",
      "  -0.         -0.         -0.         -0.        ]\n",
      " [-0.         -0.         -0.         -0.00694444  0.01388889 -0.00694444\n",
      "  -0.         -0.         -0.         -0.         -0.         -0.\n",
      "  -0.         -0.         -0.         -0.        ]\n",
      " [-0.         -0.         -0.         -0.         -0.00694444  0.01388889\n",
      "  -0.00694444 -0.         -0.         -0.         -0.         -0.\n",
      "  -0.         -0.         -0.         -0.        ]\n",
      " [-0.         -0.         -0.         -0.         -0.         -0.00694444\n",
      "   0.01388889 -0.00694444 -0.         -0.         -0.         -0.\n",
      "  -0.         -0.         -0.         -0.        ]\n",
      " [-0.         -0.         -0.         -0.         -0.         -0.\n",
      "  -0.00694444  0.01388889 -0.00694444 -0.         -0.         -0.\n",
      "  -0.         -0.         -0.         -0.        ]\n",
      " [-0.         -0.         -0.         -0.         -0.         -0.\n",
      "  -0.         -0.00694444  0.01388889 -0.00694444 -0.         -0.\n",
      "  -0.         -0.         -0.         -0.        ]\n",
      " [-0.         -0.         -0.         -0.         -0.         -0.\n",
      "  -0.         -0.         -0.00694444  0.01388889 -0.00694444 -0.\n",
      "  -0.         -0.         -0.         -0.        ]\n",
      " [-0.         -0.         -0.         -0.         -0.         -0.\n",
      "  -0.         -0.         -0.         -0.00694444  0.01388889 -0.00694444\n",
      "  -0.         -0.         -0.         -0.        ]\n",
      " [-0.         -0.         -0.         -0.         -0.         -0.\n",
      "  -0.         -0.         -0.         -0.         -0.00694444  0.01388889\n",
      "  -0.00694444 -0.         -0.         -0.        ]\n",
      " [-0.         -0.         -0.         -0.         -0.         -0.\n",
      "  -0.         -0.         -0.         -0.         -0.         -0.00694444\n",
      "   0.01388889 -0.00694444 -0.         -0.        ]\n",
      " [-0.         -0.         -0.         -0.         -0.         -0.\n",
      "  -0.         -0.         -0.         -0.         -0.         -0.\n",
      "  -0.00694444  0.01388889 -0.00694444 -0.        ]\n",
      " [-0.         -0.         -0.         -0.         -0.         -0.\n",
      "  -0.         -0.         -0.         -0.         -0.         -0.\n",
      "  -0.         -0.00694444  0.01388889 -0.00694444]\n",
      " [-0.00694444 -0.         -0.         -0.         -0.         -0.\n",
      "  -0.         -0.         -0.         -0.         -0.         -0.\n",
      "  -0.         -0.         -0.00694444  0.01388889]]\n"
     ]
    }
   ],
   "source": [
    "#E_kin_oper = -(1/np.power((a1/2),2))*np.array([[-6, 4, 4, 4],\n",
    "#                       [4, -2, 0, 0],\n",
    "#                       [4, 0, -2, 0],\n",
    "#                       [4, 0, 0, -2]])\n",
    "E_kin_oper = np.zeros((16,16))\n",
    "for m in range(16):\n",
    "    for n in range(16):\n",
    "        if m==n:\n",
    "            E_kin_oper[m,n] = -2\n",
    "        if n == m - 1:\n",
    "            E_kin_oper[m,n] = 1\n",
    "        if n == m + 1:\n",
    "            E_kin_oper[m,n] = 1\n",
    "E_kin_oper[0,-1] = 1\n",
    "E_kin_oper[-1,0] = 1\n",
    "E_kin_oper = -(1/np.power((a1/2),2))*E_kin_oper\n",
    "print(E_kin_oper)"
   ]
  },
  {
   "cell_type": "code",
   "execution_count": 22,
   "metadata": {},
   "outputs": [],
   "source": [
    "V_e_e_oper = a1/16*np.eye(16)"
   ]
  },
  {
   "cell_type": "code",
   "execution_count": 23,
   "metadata": {},
   "outputs": [
    {
     "name": "stdout",
     "output_type": "stream",
     "text": [
      "5.562562074832925\n",
      "[[5.56256207 0.         0.         0.         0.         0.\n",
      "  0.         0.         0.         0.         0.         0.\n",
      "  0.         0.         0.         0.        ]\n",
      " [0.         5.56256207 0.         0.         0.         0.\n",
      "  0.         0.         0.         0.         0.         0.\n",
      "  0.         0.         0.         0.        ]\n",
      " [0.         0.         5.56256207 0.         0.         0.\n",
      "  0.         0.         0.         0.         0.         0.\n",
      "  0.         0.         0.         0.        ]\n",
      " [0.         0.         0.         5.56256207 0.         0.\n",
      "  0.         0.         0.         0.         0.         0.\n",
      "  0.         0.         0.         0.        ]\n",
      " [0.         0.         0.         0.         5.56256207 0.\n",
      "  0.         0.         0.         0.         0.         0.\n",
      "  0.         0.         0.         0.        ]\n",
      " [0.         0.         0.         0.         0.         5.56256207\n",
      "  0.         0.         0.         0.         0.         0.\n",
      "  0.         0.         0.         0.        ]\n",
      " [0.         0.         0.         0.         0.         0.\n",
      "  5.56256207 0.         0.         0.         0.         0.\n",
      "  0.         0.         0.         0.        ]\n",
      " [0.         0.         0.         0.         0.         0.\n",
      "  0.         5.56256207 0.         0.         0.         0.\n",
      "  0.         0.         0.         0.        ]\n",
      " [0.         0.         0.         0.         0.         0.\n",
      "  0.         0.         5.56256207 0.         0.         0.\n",
      "  0.         0.         0.         0.        ]\n",
      " [0.         0.         0.         0.         0.         0.\n",
      "  0.         0.         0.         5.56256207 0.         0.\n",
      "  0.         0.         0.         0.        ]\n",
      " [0.         0.         0.         0.         0.         0.\n",
      "  0.         0.         0.         0.         5.56256207 0.\n",
      "  0.         0.         0.         0.        ]\n",
      " [0.         0.         0.         0.         0.         0.\n",
      "  0.         0.         0.         0.         0.         5.56256207\n",
      "  0.         0.         0.         0.        ]\n",
      " [0.         0.         0.         0.         0.         0.\n",
      "  0.         0.         0.         0.         0.         0.\n",
      "  5.56256207 0.         0.         0.        ]\n",
      " [0.         0.         0.         0.         0.         0.\n",
      "  0.         0.         0.         0.         0.         0.\n",
      "  0.         5.56256207 0.         0.        ]\n",
      " [0.         0.         0.         0.         0.         0.\n",
      "  0.         0.         0.         0.         0.         0.\n",
      "  0.         0.         5.56256207 0.        ]\n",
      " [0.         0.         0.         0.         0.         0.\n",
      "  0.         0.         0.         0.         0.         0.\n",
      "  0.         0.         0.         5.56256207]]\n"
     ]
    }
   ],
   "source": [
    "V_nuc_scalar = 0\n",
    "for k in range(len(CO2_Ru_au)):\n",
    "    for l in range(len(CO2_Ru_au)):\n",
    "        if k!=l:\n",
    "            distance = np.sqrt(np.sum(np.power(CO2_Ru_au[k,:] - CO2_Ru_au[l,:],2)))\n",
    "            element1 = CO2_Ru[k,3]\n",
    "            if element1 == 'Ru':\n",
    "                charge1 = 44\n",
    "            elif element1 == 'C':\n",
    "                charge1 = 6\n",
    "            elif element1 == 'O':\n",
    "                charge1 = 8\n",
    "            else:\n",
    "                charge1 = 0.0\n",
    "            element2 = CO2_Ru[l,3]\n",
    "            if element2 == 'Ru':\n",
    "                charge2 = 44\n",
    "            elif element2 == 'C':\n",
    "                charge2 = 6\n",
    "            elif element2 == 'O':\n",
    "                charge2 = 8\n",
    "            else:\n",
    "                charge2 = 0.0\n",
    "            pseudopotential = charge1*charge2*np.exp(-np.power(distance/(1),2))\n",
    "            V_nuc_scalar += charge*pseudopotential/2 #Divided by two because otherwise every pair interaction is counted twice\n",
    "print(V_nuc_scalar)\n",
    "V_nuc_oper = V_nuc_scalar*np.eye(16)\n",
    "print(V_nuc_oper)"
   ]
  },
  {
   "cell_type": "code",
   "execution_count": 24,
   "metadata": {},
   "outputs": [
    {
     "name": "stdout",
     "output_type": "stream",
     "text": [
      "[[ 6.79964349e+00 -6.94444444e-03  0.00000000e+00  0.00000000e+00\n",
      "   0.00000000e+00  0.00000000e+00  0.00000000e+00  0.00000000e+00\n",
      "   0.00000000e+00  0.00000000e+00  0.00000000e+00  0.00000000e+00\n",
      "   0.00000000e+00  0.00000000e+00  0.00000000e+00 -6.94444444e-03]\n",
      " [-6.94444444e-03 -8.98695329e+01 -6.94444444e-03  0.00000000e+00\n",
      "   0.00000000e+00  0.00000000e+00  0.00000000e+00  0.00000000e+00\n",
      "   0.00000000e+00  0.00000000e+00  0.00000000e+00  0.00000000e+00\n",
      "   0.00000000e+00  0.00000000e+00  0.00000000e+00  0.00000000e+00]\n",
      " [ 0.00000000e+00 -6.94444444e-03 -3.01580982e+02 -6.94444444e-03\n",
      "   0.00000000e+00  0.00000000e+00  0.00000000e+00  0.00000000e+00\n",
      "   0.00000000e+00  0.00000000e+00  0.00000000e+00  0.00000000e+00\n",
      "   0.00000000e+00  0.00000000e+00  0.00000000e+00  0.00000000e+00]\n",
      " [ 0.00000000e+00  0.00000000e+00 -6.94444444e-03 -7.98264044e+02\n",
      "  -6.94444444e-03  0.00000000e+00  0.00000000e+00  0.00000000e+00\n",
      "   0.00000000e+00  0.00000000e+00  0.00000000e+00  0.00000000e+00\n",
      "   0.00000000e+00  0.00000000e+00  0.00000000e+00  0.00000000e+00]\n",
      " [ 0.00000000e+00  0.00000000e+00  0.00000000e+00 -6.94444444e-03\n",
      "  -1.52192100e+02 -6.94444444e-03  0.00000000e+00  0.00000000e+00\n",
      "   0.00000000e+00  0.00000000e+00  0.00000000e+00  0.00000000e+00\n",
      "   0.00000000e+00  0.00000000e+00  0.00000000e+00  0.00000000e+00]\n",
      " [ 0.00000000e+00  0.00000000e+00  0.00000000e+00  0.00000000e+00\n",
      "  -6.94444444e-03 -5.45441053e+02 -6.94444444e-03  0.00000000e+00\n",
      "   0.00000000e+00  0.00000000e+00  0.00000000e+00  0.00000000e+00\n",
      "   0.00000000e+00  0.00000000e+00  0.00000000e+00  0.00000000e+00]\n",
      " [ 0.00000000e+00  0.00000000e+00  0.00000000e+00  0.00000000e+00\n",
      "   0.00000000e+00 -6.94444444e-03 -2.74359784e+02 -6.94444444e-03\n",
      "   0.00000000e+00  0.00000000e+00  0.00000000e+00  0.00000000e+00\n",
      "   0.00000000e+00  0.00000000e+00  0.00000000e+00  0.00000000e+00]\n",
      " [ 0.00000000e+00  0.00000000e+00  0.00000000e+00  0.00000000e+00\n",
      "   0.00000000e+00  0.00000000e+00 -6.94444444e-03 -3.46507153e+02\n",
      "  -6.94444444e-03  0.00000000e+00  0.00000000e+00  0.00000000e+00\n",
      "   0.00000000e+00  0.00000000e+00  0.00000000e+00  0.00000000e+00]\n",
      " [ 0.00000000e+00  0.00000000e+00  0.00000000e+00  0.00000000e+00\n",
      "   0.00000000e+00  0.00000000e+00  0.00000000e+00 -6.94444444e-03\n",
      "  -5.04333093e+02 -6.94444444e-03  0.00000000e+00  0.00000000e+00\n",
      "   0.00000000e+00  0.00000000e+00  0.00000000e+00  0.00000000e+00]\n",
      " [ 0.00000000e+00  0.00000000e+00  0.00000000e+00  0.00000000e+00\n",
      "   0.00000000e+00  0.00000000e+00  0.00000000e+00  0.00000000e+00\n",
      "  -6.94444444e-03 -1.94497527e+02 -6.94444444e-03  0.00000000e+00\n",
      "   0.00000000e+00  0.00000000e+00  0.00000000e+00  0.00000000e+00]\n",
      " [ 0.00000000e+00  0.00000000e+00  0.00000000e+00  0.00000000e+00\n",
      "   0.00000000e+00  0.00000000e+00  0.00000000e+00  0.00000000e+00\n",
      "   0.00000000e+00 -6.94444444e-03 -5.14857066e+02 -6.94444444e-03\n",
      "   0.00000000e+00  0.00000000e+00  0.00000000e+00  0.00000000e+00]\n",
      " [ 0.00000000e+00  0.00000000e+00  0.00000000e+00  0.00000000e+00\n",
      "   0.00000000e+00  0.00000000e+00  0.00000000e+00  0.00000000e+00\n",
      "   0.00000000e+00  0.00000000e+00 -6.94444444e-03 -1.69568063e+02\n",
      "  -6.94444444e-03  0.00000000e+00  0.00000000e+00  0.00000000e+00]\n",
      " [ 0.00000000e+00  0.00000000e+00  0.00000000e+00  0.00000000e+00\n",
      "   0.00000000e+00  0.00000000e+00  0.00000000e+00  0.00000000e+00\n",
      "   0.00000000e+00  0.00000000e+00  0.00000000e+00 -6.94444444e-03\n",
      "  -1.41036527e+02 -6.94444444e-03  0.00000000e+00  0.00000000e+00]\n",
      " [ 0.00000000e+00  0.00000000e+00  0.00000000e+00  0.00000000e+00\n",
      "   0.00000000e+00  0.00000000e+00  0.00000000e+00  0.00000000e+00\n",
      "   0.00000000e+00  0.00000000e+00  0.00000000e+00  0.00000000e+00\n",
      "  -6.94444444e-03 -2.65801171e+02 -6.94444444e-03  0.00000000e+00]\n",
      " [ 0.00000000e+00  0.00000000e+00  0.00000000e+00  0.00000000e+00\n",
      "   0.00000000e+00  0.00000000e+00  0.00000000e+00  0.00000000e+00\n",
      "   0.00000000e+00  0.00000000e+00  0.00000000e+00  0.00000000e+00\n",
      "   0.00000000e+00 -6.94444444e-03 -2.89701451e+01 -6.94444444e-03]\n",
      " [-6.94444444e-03  0.00000000e+00  0.00000000e+00  0.00000000e+00\n",
      "   0.00000000e+00  0.00000000e+00  0.00000000e+00  0.00000000e+00\n",
      "   0.00000000e+00  0.00000000e+00  0.00000000e+00  0.00000000e+00\n",
      "   0.00000000e+00  0.00000000e+00 -6.94444444e-03  7.04792287e+00]]\n"
     ]
    },
    {
     "data": {
      "image/png": "[encoded data removed]",
      "text/plain": [
       "<Figure size 432x288 with 2 Axes>"
      ]
     },
     "metadata": {
      "needs_background": "light"
     },
     "output_type": "display_data"
    }
   ],
   "source": [
    "H_oper = V_ext_oper + E_kin_oper + V_e_e_oper + V_nuc_oper\n",
    "fig = sns.heatmap(H_oper, linewidth=0.5)\n",
    "plt.savefig('CO2_Ru_Hamiltonian.png',dpi=300)\n",
    "print(H_oper)"
   ]
  },
  {
   "cell_type": "code",
   "execution_count": 25,
   "metadata": {},
   "outputs": [
    {
     "name": "stdout",
     "output_type": "stream",
     "text": [
      "eigenvalues:  [-798.26404454    6.7994499     7.0481183   -28.97014621  -89.86953314\n",
      " -301.58098237 -545.44105336 -265.80117146 -141.03652448 -152.19210024\n",
      " -169.56806459 -514.8570665  -274.35978289 -346.50715346 -194.49752676\n",
      " -504.33309364]\n",
      "minimum eigenvalue: \n",
      "-798.2640445435527\n",
      "minimum eigenvector: \n",
      "[ 8.15345676e-16  1.37063330e-10  1.39816414e-05  1.00000000e+00\n",
      "  1.07487169e-05  2.95241670e-10  3.91305545e-15  6.01142038e-20\n",
      "  1.34345218e-24 -1.69149209e-26  4.24967363e-29  2.22054270e-26\n",
      " -9.71583482e-23  6.51354554e-19 -1.61101636e-16  3.40837694e-16]\n"
     ]
    },
    {
     "data": {
      "image/png": "[encoded data removed]",
      "text/plain": [
       "<Figure size 432x288 with 1 Axes>"
      ]
     },
     "metadata": {
      "needs_background": "light"
     },
     "output_type": "display_data"
    }
   ],
   "source": [
    "w, v = np.linalg.eig(H_oper)\n",
    "print('eigenvalues: ',w)\n",
    "plt.scatter(w,np.ones(len(w)))\n",
    "print(\"minimum eigenvalue: \")\n",
    "print(np.min(w))\n",
    "print(\"minimum eigenvector: \")\n",
    "print(v[:,np.argmin(w)])"
   ]
  },
  {
   "cell_type": "code",
   "execution_count": 28,
   "metadata": {},
   "outputs": [
    {
     "name": "stdout",
     "output_type": "stream",
     "text": [
      "256\n"
     ]
    }
   ],
   "source": [
    "pd.DataFrame(H_oper).to_csv('Ham_CO2_Ru.csv',index=False)\n",
    "print(H_oper.size)"
   ]
  },
  {
   "cell_type": "code",
   "execution_count": null,
   "metadata": {},
   "outputs": [],
   "source": []
  }
 ],
 "metadata": {
  "kernelspec": {
   "display_name": "Python 3",
   "language": "python",
   "name": "python3"
  },
  "language_info": {
   "codemirror_mode": {
    "name": "ipython",
    "version": 3
   },
   "file_extension": ".py",
   "mimetype": "text/x-python",
   "name": "python",
   "nbconvert_exporter": "python",
   "pygments_lexer": "ipython3",
   "version": "3.8.5"
  }
 },
 "nbformat": 4,
 "nbformat_minor": 4
}
