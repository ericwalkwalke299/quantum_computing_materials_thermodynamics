{
 "cells": [
  {
   "cell_type": "code",
   "execution_count": 1,
   "metadata": {},
   "outputs": [],
   "source": [
    "import numpy as np\n",
    "import matplotlib\n",
    "import matplotlib.pyplot as plt\n",
    "import seaborn as sns\n",
    "import pandas as pd\n",
    "import itertools\n",
    "from pylab import *\n"
   ]
  },
  {
   "cell_type": "code",
   "execution_count": 2,
   "metadata": {},
   "outputs": [
    {
     "name": "stdout",
     "output_type": "stream",
     "text": [
      "[[0.00709277 0.9853895020000001 0.820757602 'Ru']\n",
      " [0.34229643200000004 0.9877208909999999 0.821810248 'Ru']\n",
      " [0.674113367 0.99165528 0.8218475759999999 'Ru']\n",
      " [0.010228858 0.234882321 0.8274280909999999 'Ru']\n",
      " [0.34663815299999995 0.236744433 0.822079008 'Ru']\n",
      " [0.671452808 0.236251828 0.82131752 'Ru']\n",
      " [0.019544913 0.487510946 0.822915153 'Ru']\n",
      " [0.34137203899999996 0.488880452 0.822198458 'Ru']\n",
      " [0.6650049170000001 0.487131858 0.822945015 'Ru']\n",
      " [0.008492572 0.74077902 0.819809474 'Ru']\n",
      " [0.336915973 0.7408602540000001 0.8201230279999999 'Ru']\n",
      " [0.667275991 0.749135613 0.823172715 'Ru']\n",
      " [0.016991096 0.223166012 0.8970109620000001 'C']\n",
      " [0.023469247999999998 0.21277234399999997 0.9399566690000001 'O']\n",
      " [0.785673003 0.5733024489999999 0.8671262740000001 'O']]\n"
     ]
    }
   ],
   "source": [
    "#import the xyz files and get the atoms in a list\n",
    "CO_O_Ru = pd.read_csv('CO_O_Ru.csv', sep=',', header=None)\n",
    "print(CO_O_Ru.values)"
   ]
  },
  {
   "cell_type": "code",
   "execution_count": 3,
   "metadata": {},
   "outputs": [
    {
     "name": "stdout",
     "output_type": "stream",
     "text": [
      "[[ 8.31557575  0.          0.        ]\n",
      " [ 5.54371717  9.60199979  0.        ]\n",
      " [ 0.          0.         26.78963917]]\n"
     ]
    }
   ],
   "source": [
    "# Brilliant.  Moving on.  \n",
    "# Get the lattice vectors.\n",
    "lattice_vectors = pd.read_csv('lattice_vectors.csv', sep=',', header=None)\n",
    "print(lattice_vectors.values)\n"
   ]
  },
  {
   "cell_type": "code",
   "execution_count": 4,
   "metadata": {},
   "outputs": [
    {
     "name": "stdout",
     "output_type": "stream",
     "text": [
      "[[ 5.52170116  9.46170979 21.9878    ]\n",
      " [ 8.32203717  9.48409579 22.01600001]\n",
      " [11.10309716  9.52187379 22.01700001]\n",
      " [ 1.38718     2.25534    22.1665    ]\n",
      " [ 4.19494     2.27322    22.02319999]\n",
      " [ 6.89323     2.26849    22.0028    ]\n",
      " [ 2.86515     4.68108    22.04560002]\n",
      " [ 5.54892     4.69423    22.02640002]\n",
      " [ 8.23042     4.67744    22.04640001]\n",
      " [ 4.17728999  7.11296    21.9624    ]\n",
      " [ 6.90877     7.11374    21.9708    ]\n",
      " [ 9.70178     7.1932     22.05250001]\n",
      " [ 1.37846     2.14284    24.0306    ]\n",
      " [ 1.37471001  2.04304    25.1811    ]\n",
      " [ 9.71155     5.50485    23.23      ]]\n"
     ]
    }
   ],
   "source": [
    "# Convert to Angstroms instead of fractions of the unit cell vectors.\n",
    "# An N-atom by 3 matrix times 3x3 lattice matrix yields an Nx3 matrix.\n",
    "CO_O_Ru_angs=np.matmul(CO_O_Ru.iloc[:, 0:3],lattice_vectors)\n",
    "CO_O_Ru_angs = np.array(CO_O_Ru_angs)\n",
    "print(CO_O_Ru_angs)"
   ]
  },
  {
   "cell_type": "code",
   "execution_count": 5,
   "metadata": {},
   "outputs": [
    {
     "name": "stdout",
     "output_type": "stream",
     "text": [
      "[[10.43450294 17.88004019  3.7563976 ]\n",
      " [15.72637105 17.92234359  3.80968789]\n",
      " [20.98181278 17.99373367  3.81157762]\n",
      " [ 2.62139028  4.26197491  4.09409165]\n",
      " [ 7.9272877   4.29576322  3.82329388]\n",
      " [13.02631682  4.28682482  3.78474349]\n",
      " [ 5.41434882  8.84595918  3.86562379]\n",
      " [10.4859391   8.87080907  3.82934105]\n",
      " [15.5532397   8.83908057  3.86713556]\n",
      " [ 7.89393404 13.44154633  3.70839854]\n",
      " [13.05568317 13.44302034  3.72427224]\n",
      " [18.33370714 13.59317797  3.87866289]\n",
      " [ 2.60491187  4.04938073  7.61673013]\n",
      " [ 2.59782541  3.86078607  9.79086002]\n",
      " [18.35216975 10.40265885  6.10381538]]\n"
     ]
    }
   ],
   "source": [
    "# Slice off unnecessary z-space below.  Convert to atomic units of length.\n",
    "CO_O_Ru_angs[:, 2] = CO_O_Ru_angs[:, 2] - 20\n",
    "CO_O_Ru_au = CO_O_Ru_angs/0.52917721067121\n",
    "print(CO_O_Ru_au)"
   ]
  },
  {
   "cell_type": "code",
   "execution_count": 6,
   "metadata": {},
   "outputs": [],
   "source": [
    "#Ready to start iterating?\n",
    "a1 = 24\n",
    "a2 = 24\n",
    "a3 = 24\n"
   ]
  },
  {
   "cell_type": "code",
   "execution_count": 7,
   "metadata": {},
   "outputs": [
    {
     "name": "stdout",
     "output_type": "stream",
     "text": [
      "-557.0673764447356\n",
      "-273.6644796278884\n",
      "[-0.7427371369483924, -242.6093725740666, -476.1861390872446, -197.5533679267178, -163.20821293795257, -557.0673764447356, -299.58249572526285, -342.9196263232818, -530.8598656630694, -210.6440407634148, -491.3208403136243, -303.2732281388585, -253.06913441001637, -272.09445338383364, -37.46981099327492, -0.030972223912371796]\n",
      "[[-7.42737137e-01  0.00000000e+00  0.00000000e+00  0.00000000e+00\n",
      "   0.00000000e+00  0.00000000e+00  0.00000000e+00  0.00000000e+00\n",
      "   0.00000000e+00  0.00000000e+00  0.00000000e+00  0.00000000e+00\n",
      "   0.00000000e+00  0.00000000e+00  0.00000000e+00  0.00000000e+00]\n",
      " [ 0.00000000e+00 -2.42609373e+02  0.00000000e+00  0.00000000e+00\n",
      "   0.00000000e+00  0.00000000e+00  0.00000000e+00  0.00000000e+00\n",
      "   0.00000000e+00  0.00000000e+00  0.00000000e+00  0.00000000e+00\n",
      "   0.00000000e+00  0.00000000e+00  0.00000000e+00  0.00000000e+00]\n",
      " [ 0.00000000e+00  0.00000000e+00 -4.76186139e+02  0.00000000e+00\n",
      "   0.00000000e+00  0.00000000e+00  0.00000000e+00  0.00000000e+00\n",
      "   0.00000000e+00  0.00000000e+00  0.00000000e+00  0.00000000e+00\n",
      "   0.00000000e+00  0.00000000e+00  0.00000000e+00  0.00000000e+00]\n",
      " [ 0.00000000e+00  0.00000000e+00  0.00000000e+00 -1.97553368e+02\n",
      "   0.00000000e+00  0.00000000e+00  0.00000000e+00  0.00000000e+00\n",
      "   0.00000000e+00  0.00000000e+00  0.00000000e+00  0.00000000e+00\n",
      "   0.00000000e+00  0.00000000e+00  0.00000000e+00  0.00000000e+00]\n",
      " [ 0.00000000e+00  0.00000000e+00  0.00000000e+00  0.00000000e+00\n",
      "  -1.63208213e+02  0.00000000e+00  0.00000000e+00  0.00000000e+00\n",
      "   0.00000000e+00  0.00000000e+00  0.00000000e+00  0.00000000e+00\n",
      "   0.00000000e+00  0.00000000e+00  0.00000000e+00  0.00000000e+00]\n",
      " [ 0.00000000e+00  0.00000000e+00  0.00000000e+00  0.00000000e+00\n",
      "   0.00000000e+00 -5.57067376e+02  0.00000000e+00  0.00000000e+00\n",
      "   0.00000000e+00  0.00000000e+00  0.00000000e+00  0.00000000e+00\n",
      "   0.00000000e+00  0.00000000e+00  0.00000000e+00  0.00000000e+00]\n",
      " [ 0.00000000e+00  0.00000000e+00  0.00000000e+00  0.00000000e+00\n",
      "   0.00000000e+00  0.00000000e+00 -2.99582496e+02  0.00000000e+00\n",
      "   0.00000000e+00  0.00000000e+00  0.00000000e+00  0.00000000e+00\n",
      "   0.00000000e+00  0.00000000e+00  0.00000000e+00  0.00000000e+00]\n",
      " [ 0.00000000e+00  0.00000000e+00  0.00000000e+00  0.00000000e+00\n",
      "   0.00000000e+00  0.00000000e+00  0.00000000e+00 -3.42919626e+02\n",
      "   0.00000000e+00  0.00000000e+00  0.00000000e+00  0.00000000e+00\n",
      "   0.00000000e+00  0.00000000e+00  0.00000000e+00  0.00000000e+00]\n",
      " [ 0.00000000e+00  0.00000000e+00  0.00000000e+00  0.00000000e+00\n",
      "   0.00000000e+00  0.00000000e+00  0.00000000e+00  0.00000000e+00\n",
      "  -5.30859866e+02  0.00000000e+00  0.00000000e+00  0.00000000e+00\n",
      "   0.00000000e+00  0.00000000e+00  0.00000000e+00  0.00000000e+00]\n",
      " [ 0.00000000e+00  0.00000000e+00  0.00000000e+00  0.00000000e+00\n",
      "   0.00000000e+00  0.00000000e+00  0.00000000e+00  0.00000000e+00\n",
      "   0.00000000e+00 -2.10644041e+02  0.00000000e+00  0.00000000e+00\n",
      "   0.00000000e+00  0.00000000e+00  0.00000000e+00  0.00000000e+00]\n",
      " [ 0.00000000e+00  0.00000000e+00  0.00000000e+00  0.00000000e+00\n",
      "   0.00000000e+00  0.00000000e+00  0.00000000e+00  0.00000000e+00\n",
      "   0.00000000e+00  0.00000000e+00 -4.91320840e+02  0.00000000e+00\n",
      "   0.00000000e+00  0.00000000e+00  0.00000000e+00  0.00000000e+00]\n",
      " [ 0.00000000e+00  0.00000000e+00  0.00000000e+00  0.00000000e+00\n",
      "   0.00000000e+00  0.00000000e+00  0.00000000e+00  0.00000000e+00\n",
      "   0.00000000e+00  0.00000000e+00  0.00000000e+00 -3.03273228e+02\n",
      "   0.00000000e+00  0.00000000e+00  0.00000000e+00  0.00000000e+00]\n",
      " [ 0.00000000e+00  0.00000000e+00  0.00000000e+00  0.00000000e+00\n",
      "   0.00000000e+00  0.00000000e+00  0.00000000e+00  0.00000000e+00\n",
      "   0.00000000e+00  0.00000000e+00  0.00000000e+00  0.00000000e+00\n",
      "  -2.53069134e+02  0.00000000e+00  0.00000000e+00  0.00000000e+00]\n",
      " [ 0.00000000e+00  0.00000000e+00  0.00000000e+00  0.00000000e+00\n",
      "   0.00000000e+00  0.00000000e+00  0.00000000e+00  0.00000000e+00\n",
      "   0.00000000e+00  0.00000000e+00  0.00000000e+00  0.00000000e+00\n",
      "   0.00000000e+00 -2.72094453e+02  0.00000000e+00  0.00000000e+00]\n",
      " [ 0.00000000e+00  0.00000000e+00  0.00000000e+00  0.00000000e+00\n",
      "   0.00000000e+00  0.00000000e+00  0.00000000e+00  0.00000000e+00\n",
      "   0.00000000e+00  0.00000000e+00  0.00000000e+00  0.00000000e+00\n",
      "   0.00000000e+00  0.00000000e+00 -3.74698110e+01  0.00000000e+00]\n",
      " [ 0.00000000e+00  0.00000000e+00  0.00000000e+00  0.00000000e+00\n",
      "   0.00000000e+00  0.00000000e+00  0.00000000e+00  0.00000000e+00\n",
      "   0.00000000e+00  0.00000000e+00  0.00000000e+00  0.00000000e+00\n",
      "   0.00000000e+00  0.00000000e+00  0.00000000e+00 -3.09722239e-02]]\n"
     ]
    }
   ],
   "source": [
    "CO_O_Ru = np.array(CO_O_Ru)\n",
    "split = np.linspace(0,a1,16)\n",
    "#print(split_x)\n",
    "\n",
    "V_ext_x = []\n",
    "\n",
    "for i in split:\n",
    "    #V_ext = 0\n",
    "    mini_sum = 0\n",
    "    for j in range(len(CO_O_Ru_angs)):\n",
    "\n",
    "        distance_x = np.sqrt(np.power(CO_O_Ru_au[j,0] - i,2))\n",
    "\n",
    "\n",
    "        pseudopotential_x = np.exp(-np.power(distance_x/(1),2))\n",
    "\n",
    "        #print(pseudopotential)\n",
    "        element = CO_O_Ru[j,3]\n",
    "        if element == 'Ru':\n",
    "            charge = 10#44\n",
    "        elif element == 'C':\n",
    "            charge = 6\n",
    "        elif element == 'O':\n",
    "            charge = 8\n",
    "        else:\n",
    "            charge = 0.0\n",
    "            \n",
    "        mini_sum = mini_sum-28*charge*pseudopotential_x #28 is all the valence electrons of the system\n",
    "        \n",
    "    V_ext_x.append(mini_sum) \n",
    "\n",
    "\n",
    "print(min(V_ext_x))\n",
    "print(np.sum(V_ext_x)/16)\n",
    "V_ext_oper = np.diag(V_ext_x)\n",
    "#V_ext_oper[0,0] = -V_ext\n",
    "print(V_ext_x)\n",
    "print(V_ext_oper)"
   ]
  },
  {
   "cell_type": "code",
   "execution_count": 8,
   "metadata": {},
   "outputs": [],
   "source": [
    "# Great!  Now, move on to the kinetic energy.  \n",
    "# The kinetic energy matrix will also be diagonal.\n",
    "# There is one kinetic energy at each spatial point.\n",
    "# It is a second derivative."
   ]
  },
  {
   "cell_type": "code",
   "execution_count": 9,
   "metadata": {},
   "outputs": [
    {
     "name": "stdout",
     "output_type": "stream",
     "text": [
      "[[ 0.01388889 -0.00694444 -0.         -0.         -0.         -0.\n",
      "  -0.         -0.         -0.         -0.         -0.         -0.\n",
      "  -0.         -0.         -0.         -0.00694444]\n",
      " [-0.00694444  0.01388889 -0.00694444 -0.         -0.         -0.\n",
      "  -0.         -0.         -0.         -0.         -0.         -0.\n",
      "  -0.         -0.         -0.         -0.        ]\n",
      " [-0.         -0.00694444  0.01388889 -0.00694444 -0.         -0.\n",
      "  -0.         -0.         -0.         -0.         -0.         -0.\n",
      "  -0.         -0.         -0.         -0.        ]\n",
      " [-0.         -0.         -0.00694444  0.01388889 -0.00694444 -0.\n",
      "  -0.         -0.         -0.         -0.         -0.         -0.\n",
      "  -0.         -0.         -0.         -0.        ]\n",
      " [-0.         -0.         -0.         -0.00694444  0.01388889 -0.00694444\n",
      "  -0.         -0.         -0.         -0.         -0.         -0.\n",
      "  -0.         -0.         -0.         -0.        ]\n",
      " [-0.         -0.         -0.         -0.         -0.00694444  0.01388889\n",
      "  -0.00694444 -0.         -0.         -0.         -0.         -0.\n",
      "  -0.         -0.         -0.         -0.        ]\n",
      " [-0.         -0.         -0.         -0.         -0.         -0.00694444\n",
      "   0.01388889 -0.00694444 -0.         -0.         -0.         -0.\n",
      "  -0.         -0.         -0.         -0.        ]\n",
      " [-0.         -0.         -0.         -0.         -0.         -0.\n",
      "  -0.00694444  0.01388889 -0.00694444 -0.         -0.         -0.\n",
      "  -0.         -0.         -0.         -0.        ]\n",
      " [-0.         -0.         -0.         -0.         -0.         -0.\n",
      "  -0.         -0.00694444  0.01388889 -0.00694444 -0.         -0.\n",
      "  -0.         -0.         -0.         -0.        ]\n",
      " [-0.         -0.         -0.         -0.         -0.         -0.\n",
      "  -0.         -0.         -0.00694444  0.01388889 -0.00694444 -0.\n",
      "  -0.         -0.         -0.         -0.        ]\n",
      " [-0.         -0.         -0.         -0.         -0.         -0.\n",
      "  -0.         -0.         -0.         -0.00694444  0.01388889 -0.00694444\n",
      "  -0.         -0.         -0.         -0.        ]\n",
      " [-0.         -0.         -0.         -0.         -0.         -0.\n",
      "  -0.         -0.         -0.         -0.         -0.00694444  0.01388889\n",
      "  -0.00694444 -0.         -0.         -0.        ]\n",
      " [-0.         -0.         -0.         -0.         -0.         -0.\n",
      "  -0.         -0.         -0.         -0.         -0.         -0.00694444\n",
      "   0.01388889 -0.00694444 -0.         -0.        ]\n",
      " [-0.         -0.         -0.         -0.         -0.         -0.\n",
      "  -0.         -0.         -0.         -0.         -0.         -0.\n",
      "  -0.00694444  0.01388889 -0.00694444 -0.        ]\n",
      " [-0.         -0.         -0.         -0.         -0.         -0.\n",
      "  -0.         -0.         -0.         -0.         -0.         -0.\n",
      "  -0.         -0.00694444  0.01388889 -0.00694444]\n",
      " [-0.00694444 -0.         -0.         -0.         -0.         -0.\n",
      "  -0.         -0.         -0.         -0.         -0.         -0.\n",
      "  -0.         -0.         -0.00694444  0.01388889]]\n"
     ]
    }
   ],
   "source": [
    "E_kin_oper = np.zeros((16,16))\n",
    "for m in range(16):\n",
    "    for n in range(16):\n",
    "        if m==n:\n",
    "            E_kin_oper[m,n] = -2\n",
    "        if n == m - 1:\n",
    "            E_kin_oper[m,n] = 1\n",
    "        if n == m + 1:\n",
    "            E_kin_oper[m,n] = 1\n",
    "E_kin_oper[0,-1] = 1\n",
    "E_kin_oper[-1,0] = 1\n",
    "E_kin_oper = -(1/np.power((a1/2),2))*E_kin_oper\n",
    "print(E_kin_oper)"
   ]
  },
  {
   "cell_type": "code",
   "execution_count": 10,
   "metadata": {},
   "outputs": [],
   "source": [
    "V_e_e_oper = a1/16*np.eye(16)"
   ]
  },
  {
   "cell_type": "code",
   "execution_count": 11,
   "metadata": {},
   "outputs": [
    {
     "name": "stdout",
     "output_type": "stream",
     "text": [
      "3.2907599324517207\n",
      "[[3.29075993 0.         0.         0.         0.         0.\n",
      "  0.         0.         0.         0.         0.         0.\n",
      "  0.         0.         0.         0.        ]\n",
      " [0.         3.29075993 0.         0.         0.         0.\n",
      "  0.         0.         0.         0.         0.         0.\n",
      "  0.         0.         0.         0.        ]\n",
      " [0.         0.         3.29075993 0.         0.         0.\n",
      "  0.         0.         0.         0.         0.         0.\n",
      "  0.         0.         0.         0.        ]\n",
      " [0.         0.         0.         3.29075993 0.         0.\n",
      "  0.         0.         0.         0.         0.         0.\n",
      "  0.         0.         0.         0.        ]\n",
      " [0.         0.         0.         0.         3.29075993 0.\n",
      "  0.         0.         0.         0.         0.         0.\n",
      "  0.         0.         0.         0.        ]\n",
      " [0.         0.         0.         0.         0.         3.29075993\n",
      "  0.         0.         0.         0.         0.         0.\n",
      "  0.         0.         0.         0.        ]\n",
      " [0.         0.         0.         0.         0.         0.\n",
      "  3.29075993 0.         0.         0.         0.         0.\n",
      "  0.         0.         0.         0.        ]\n",
      " [0.         0.         0.         0.         0.         0.\n",
      "  0.         3.29075993 0.         0.         0.         0.\n",
      "  0.         0.         0.         0.        ]\n",
      " [0.         0.         0.         0.         0.         0.\n",
      "  0.         0.         3.29075993 0.         0.         0.\n",
      "  0.         0.         0.         0.        ]\n",
      " [0.         0.         0.         0.         0.         0.\n",
      "  0.         0.         0.         3.29075993 0.         0.\n",
      "  0.         0.         0.         0.        ]\n",
      " [0.         0.         0.         0.         0.         0.\n",
      "  0.         0.         0.         0.         3.29075993 0.\n",
      "  0.         0.         0.         0.        ]\n",
      " [0.         0.         0.         0.         0.         0.\n",
      "  0.         0.         0.         0.         0.         3.29075993\n",
      "  0.         0.         0.         0.        ]\n",
      " [0.         0.         0.         0.         0.         0.\n",
      "  0.         0.         0.         0.         0.         0.\n",
      "  3.29075993 0.         0.         0.        ]\n",
      " [0.         0.         0.         0.         0.         0.\n",
      "  0.         0.         0.         0.         0.         0.\n",
      "  0.         3.29075993 0.         0.        ]\n",
      " [0.         0.         0.         0.         0.         0.\n",
      "  0.         0.         0.         0.         0.         0.\n",
      "  0.         0.         3.29075993 0.        ]\n",
      " [0.         0.         0.         0.         0.         0.\n",
      "  0.         0.         0.         0.         0.         0.\n",
      "  0.         0.         0.         3.29075993]]\n"
     ]
    }
   ],
   "source": [
    "V_nuc_scalar = 0\n",
    "for k in range(len(CO_O_Ru_au)):\n",
    "    for l in range(len(CO_O_Ru_au)):\n",
    "        if k!=l:\n",
    "            distance = np.sqrt(np.sum(np.power(CO_O_Ru_au[k,:] - CO_O_Ru_au[l,:],2)))\n",
    "            element1 = CO_O_Ru[k,3]\n",
    "            if element1 == 'Ru':\n",
    "                charge1 = 44\n",
    "            elif element1 == 'C':\n",
    "                charge1 = 6\n",
    "            elif element1 == 'O':\n",
    "                charge1 = 8\n",
    "            else:\n",
    "                charge1 = 0.0\n",
    "            element2 = CO_O_Ru[l,3]\n",
    "            if element2 == 'Ru':\n",
    "                charge2 = 44\n",
    "            elif element2 == 'C':\n",
    "                charge2 = 6\n",
    "            elif element2 == 'O':\n",
    "                charge2 = 8\n",
    "            else:\n",
    "                charge2 = 0.0\n",
    "            pseudopotential = charge1*charge2*np.exp(-np.power(distance/(1),2))\n",
    "            V_nuc_scalar += charge*pseudopotential/2 #Divided by two because otherwise every pair interaction is counted twice\n",
    "print(V_nuc_scalar)\n",
    "V_nuc_oper = V_nuc_scalar*np.eye(16)\n",
    "print(V_nuc_oper)"
   ]
  },
  {
   "cell_type": "code",
   "execution_count": 12,
   "metadata": {},
   "outputs": [
    {
     "name": "stdout",
     "output_type": "stream",
     "text": [
      "[[ 4.06191168e+00 -6.94444444e-03  0.00000000e+00  0.00000000e+00\n",
      "   0.00000000e+00  0.00000000e+00  0.00000000e+00  0.00000000e+00\n",
      "   0.00000000e+00  0.00000000e+00  0.00000000e+00  0.00000000e+00\n",
      "   0.00000000e+00  0.00000000e+00  0.00000000e+00 -6.94444444e-03]\n",
      " [-6.94444444e-03 -2.37804724e+02 -6.94444444e-03  0.00000000e+00\n",
      "   0.00000000e+00  0.00000000e+00  0.00000000e+00  0.00000000e+00\n",
      "   0.00000000e+00  0.00000000e+00  0.00000000e+00  0.00000000e+00\n",
      "   0.00000000e+00  0.00000000e+00  0.00000000e+00  0.00000000e+00]\n",
      " [ 0.00000000e+00 -6.94444444e-03 -4.71381490e+02 -6.94444444e-03\n",
      "   0.00000000e+00  0.00000000e+00  0.00000000e+00  0.00000000e+00\n",
      "   0.00000000e+00  0.00000000e+00  0.00000000e+00  0.00000000e+00\n",
      "   0.00000000e+00  0.00000000e+00  0.00000000e+00  0.00000000e+00]\n",
      " [ 0.00000000e+00  0.00000000e+00 -6.94444444e-03 -1.92748719e+02\n",
      "  -6.94444444e-03  0.00000000e+00  0.00000000e+00  0.00000000e+00\n",
      "   0.00000000e+00  0.00000000e+00  0.00000000e+00  0.00000000e+00\n",
      "   0.00000000e+00  0.00000000e+00  0.00000000e+00  0.00000000e+00]\n",
      " [ 0.00000000e+00  0.00000000e+00  0.00000000e+00 -6.94444444e-03\n",
      "  -1.58403564e+02 -6.94444444e-03  0.00000000e+00  0.00000000e+00\n",
      "   0.00000000e+00  0.00000000e+00  0.00000000e+00  0.00000000e+00\n",
      "   0.00000000e+00  0.00000000e+00  0.00000000e+00  0.00000000e+00]\n",
      " [ 0.00000000e+00  0.00000000e+00  0.00000000e+00  0.00000000e+00\n",
      "  -6.94444444e-03 -5.52262728e+02 -6.94444444e-03  0.00000000e+00\n",
      "   0.00000000e+00  0.00000000e+00  0.00000000e+00  0.00000000e+00\n",
      "   0.00000000e+00  0.00000000e+00  0.00000000e+00  0.00000000e+00]\n",
      " [ 0.00000000e+00  0.00000000e+00  0.00000000e+00  0.00000000e+00\n",
      "   0.00000000e+00 -6.94444444e-03 -2.94777847e+02 -6.94444444e-03\n",
      "   0.00000000e+00  0.00000000e+00  0.00000000e+00  0.00000000e+00\n",
      "   0.00000000e+00  0.00000000e+00  0.00000000e+00  0.00000000e+00]\n",
      " [ 0.00000000e+00  0.00000000e+00  0.00000000e+00  0.00000000e+00\n",
      "   0.00000000e+00  0.00000000e+00 -6.94444444e-03 -3.38114978e+02\n",
      "  -6.94444444e-03  0.00000000e+00  0.00000000e+00  0.00000000e+00\n",
      "   0.00000000e+00  0.00000000e+00  0.00000000e+00  0.00000000e+00]\n",
      " [ 0.00000000e+00  0.00000000e+00  0.00000000e+00  0.00000000e+00\n",
      "   0.00000000e+00  0.00000000e+00  0.00000000e+00 -6.94444444e-03\n",
      "  -5.26055217e+02 -6.94444444e-03  0.00000000e+00  0.00000000e+00\n",
      "   0.00000000e+00  0.00000000e+00  0.00000000e+00  0.00000000e+00]\n",
      " [ 0.00000000e+00  0.00000000e+00  0.00000000e+00  0.00000000e+00\n",
      "   0.00000000e+00  0.00000000e+00  0.00000000e+00  0.00000000e+00\n",
      "  -6.94444444e-03 -2.05839392e+02 -6.94444444e-03  0.00000000e+00\n",
      "   0.00000000e+00  0.00000000e+00  0.00000000e+00  0.00000000e+00]\n",
      " [ 0.00000000e+00  0.00000000e+00  0.00000000e+00  0.00000000e+00\n",
      "   0.00000000e+00  0.00000000e+00  0.00000000e+00  0.00000000e+00\n",
      "   0.00000000e+00 -6.94444444e-03 -4.86516191e+02 -6.94444444e-03\n",
      "   0.00000000e+00  0.00000000e+00  0.00000000e+00  0.00000000e+00]\n",
      " [ 0.00000000e+00  0.00000000e+00  0.00000000e+00  0.00000000e+00\n",
      "   0.00000000e+00  0.00000000e+00  0.00000000e+00  0.00000000e+00\n",
      "   0.00000000e+00  0.00000000e+00 -6.94444444e-03 -2.98468579e+02\n",
      "  -6.94444444e-03  0.00000000e+00  0.00000000e+00  0.00000000e+00]\n",
      " [ 0.00000000e+00  0.00000000e+00  0.00000000e+00  0.00000000e+00\n",
      "   0.00000000e+00  0.00000000e+00  0.00000000e+00  0.00000000e+00\n",
      "   0.00000000e+00  0.00000000e+00  0.00000000e+00 -6.94444444e-03\n",
      "  -2.48264486e+02 -6.94444444e-03  0.00000000e+00  0.00000000e+00]\n",
      " [ 0.00000000e+00  0.00000000e+00  0.00000000e+00  0.00000000e+00\n",
      "   0.00000000e+00  0.00000000e+00  0.00000000e+00  0.00000000e+00\n",
      "   0.00000000e+00  0.00000000e+00  0.00000000e+00  0.00000000e+00\n",
      "  -6.94444444e-03 -2.67289805e+02 -6.94444444e-03  0.00000000e+00]\n",
      " [ 0.00000000e+00  0.00000000e+00  0.00000000e+00  0.00000000e+00\n",
      "   0.00000000e+00  0.00000000e+00  0.00000000e+00  0.00000000e+00\n",
      "   0.00000000e+00  0.00000000e+00  0.00000000e+00  0.00000000e+00\n",
      "   0.00000000e+00 -6.94444444e-03 -3.26651622e+01 -6.94444444e-03]\n",
      " [-6.94444444e-03  0.00000000e+00  0.00000000e+00  0.00000000e+00\n",
      "   0.00000000e+00  0.00000000e+00  0.00000000e+00  0.00000000e+00\n",
      "   0.00000000e+00  0.00000000e+00  0.00000000e+00  0.00000000e+00\n",
      "   0.00000000e+00  0.00000000e+00 -6.94444444e-03  4.77367660e+00]]\n"
     ]
    },
    {
     "data": {
      "image/png": "[encoded data removed]",
      "text/plain": [
       "<Figure size 432x288 with 2 Axes>"
      ]
     },
     "metadata": {
      "needs_background": "light"
     },
     "output_type": "display_data"
    }
   ],
   "source": [
    "H_oper = V_ext_oper + E_kin_oper + V_e_e_oper + V_nuc_oper\n",
    "fig = sns.heatmap(H_oper, linewidth=0.5)\n",
    "plt.savefig('CO_O_Ru_Hamiltonian.png',dpi=300)\n",
    "print(H_oper)"
   ]
  },
  {
   "cell_type": "code",
   "execution_count": 13,
   "metadata": {},
   "outputs": [
    {
     "name": "stdout",
     "output_type": "stream",
     "text": [
      "eigenvalues:  [   4.06184414    4.77374563  -32.66516325 -471.38149065 -237.80472375\n",
      " -158.40356259 -192.74872034 -267.2898073  -552.26272793 -248.26448209\n",
      " -298.46858002 -486.51619192 -294.7778456  -338.11497836 -205.83939162\n",
      " -526.05521725]\n",
      "minimum eigenvalue: \n",
      "-552.2627279331322\n",
      "minimum eigenvector: \n",
      "[ 8.06105718e-24  6.45775735e-19  2.92420758e-14  3.40579176e-10\n",
      "  1.76317960e-05  9.99999999e-01  2.69702998e-05  8.74600202e-10\n",
      "  2.31679087e-13 -1.24772134e-16 -4.75220815e-18 -5.12297343e-16\n",
      " -3.47725865e-16 -1.23699965e-17  3.79109754e-20  1.58407187e-24]\n"
     ]
    },
    {
     "data": {
      "image/png": "[encoded data removed]",
      "text/plain": [
       "<Figure size 432x288 with 1 Axes>"
      ]
     },
     "metadata": {
      "needs_background": "light"
     },
     "output_type": "display_data"
    }
   ],
   "source": [
    "w, v = np.linalg.eig(H_oper)\n",
    "print('eigenvalues: ',w)\n",
    "plt.scatter(w,np.ones(len(w)))\n",
    "print(\"minimum eigenvalue: \")\n",
    "print(np.min(w))\n",
    "print(\"minimum eigenvector: \")\n",
    "print(v[:,np.argmin(w)])"
   ]
  },
  {
   "cell_type": "code",
   "execution_count": 14,
   "metadata": {},
   "outputs": [
    {
     "name": "stdout",
     "output_type": "stream",
     "text": [
      "256\n"
     ]
    }
   ],
   "source": [
    "pd.DataFrame(H_oper).to_csv('Ham_CO_O_Ru.csv',index=False)\n",
    "print(H_oper.size)"
   ]
  }
 ],
 "metadata": {
  "kernelspec": {
   "display_name": "Python 3",
   "language": "python",
   "name": "python3"
  },
  "language_info": {
   "codemirror_mode": {
    "name": "ipython",
    "version": 3
   },
   "file_extension": ".py",
   "mimetype": "text/x-python",
   "name": "python",
   "nbconvert_exporter": "python",
   "pygments_lexer": "ipython3",
   "version": "3.8.5"
  }
 },
 "nbformat": 4,
 "nbformat_minor": 4
}
